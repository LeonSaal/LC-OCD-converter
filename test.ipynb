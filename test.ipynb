{
 "cells": [
  {
   "cell_type": "code",
   "execution_count": 27,
   "metadata": {},
   "outputs": [],
   "source": [
    "import pandas as pd\n",
    "import scipy as sp\n",
    "\n",
    "path = \"C:/Users/Leon/Desktop/37748_211217_aki_2490_BE1.xlsx\""
   ]
  },
  {
   "cell_type": "code",
   "execution_count": 3,
   "metadata": {},
   "outputs": [
    {
     "data": {
      "text/html": [
       "<div>\n",
       "<style scoped>\n",
       "    .dataframe tbody tr th:only-of-type {\n",
       "        vertical-align: middle;\n",
       "    }\n",
       "\n",
       "    .dataframe tbody tr th {\n",
       "        vertical-align: top;\n",
       "    }\n",
       "\n",
       "    .dataframe thead th {\n",
       "        text-align: right;\n",
       "    }\n",
       "</style>\n",
       "<table border=\"1\" class=\"dataframe\">\n",
       "  <thead>\n",
       "    <tr style=\"text-align: right;\">\n",
       "      <th></th>\n",
       "      <th>OC</th>\n",
       "      <th>UV</th>\n",
       "      <th>UV2</th>\n",
       "      <th>t</th>\n",
       "    </tr>\n",
       "  </thead>\n",
       "  <tbody>\n",
       "    <tr>\n",
       "      <th>0.075</th>\n",
       "      <td>0.089</td>\n",
       "      <td>0.335</td>\n",
       "      <td>0.30</td>\n",
       "      <td>9.979</td>\n",
       "    </tr>\n",
       "    <tr>\n",
       "      <th>0.158</th>\n",
       "      <td>0.095</td>\n",
       "      <td>0.326</td>\n",
       "      <td>0.30</td>\n",
       "      <td>0.004</td>\n",
       "    </tr>\n",
       "    <tr>\n",
       "      <th>0.242</th>\n",
       "      <td>0.088</td>\n",
       "      <td>0.328</td>\n",
       "      <td>0.27</td>\n",
       "      <td>0.003</td>\n",
       "    </tr>\n",
       "    <tr>\n",
       "      <th>0.325</th>\n",
       "      <td>0.091</td>\n",
       "      <td>0.322</td>\n",
       "      <td>0.27</td>\n",
       "      <td>0.004</td>\n",
       "    </tr>\n",
       "    <tr>\n",
       "      <th>0.408</th>\n",
       "      <td>0.079</td>\n",
       "      <td>0.319</td>\n",
       "      <td>0.28</td>\n",
       "      <td>0.006</td>\n",
       "    </tr>\n",
       "  </tbody>\n",
       "</table>\n",
       "</div>"
      ],
      "text/plain": [
       "          OC     UV   UV2      t\n",
       "0.075  0.089  0.335  0.30  9.979\n",
       "0.158  0.095  0.326  0.30  0.004\n",
       "0.242  0.088  0.328  0.27  0.003\n",
       "0.325  0.091  0.322  0.27  0.004\n",
       "0.408  0.079  0.319  0.28  0.006"
      ]
     },
     "execution_count": 3,
     "metadata": {},
     "output_type": "execute_result"
    }
   ],
   "source": [
    "df = pd.read_excel(path, index_col=0)\n",
    "df.head()"
   ]
  },
  {
   "cell_type": "code",
   "execution_count": 14,
   "metadata": {},
   "outputs": [
    {
     "data": {
      "text/plain": [
       "OC    49\n",
       "UV    11\n",
       "dtype: int64"
      ]
     },
     "execution_count": 14,
     "metadata": {},
     "output_type": "execute_result"
    }
   ],
   "source": [
    "indizes = df[df.index < 5][[\"OC\", \"UV\"]].apply(lambda s: s.argmax(), axis=0)\n",
    "indizes"
   ]
  },
  {
   "cell_type": "code",
   "execution_count": 24,
   "metadata": {},
   "outputs": [
    {
     "data": {
      "text/plain": [
       "np.int64(-38)"
      ]
     },
     "execution_count": 24,
     "metadata": {},
     "output_type": "execute_result"
    }
   ],
   "source": [
    "indizes.values[1]-indizes.values[0]"
   ]
  },
  {
   "cell_type": "markdown",
   "metadata": {},
   "source": [
    "# integrate"
   ]
  },
  {
   "cell_type": "code",
   "execution_count": 29,
   "metadata": {},
   "outputs": [
    {
     "data": {
      "text/plain": [
       "OC         0.055000\n",
       "dt       119.917000\n",
       "OC0     2584.276000\n",
       "trap     215.346736\n",
       "dtype: float64"
      ]
     },
     "execution_count": 29,
     "metadata": {},
     "output_type": "execute_result"
    }
   ],
   "source": [
    "srs = df[\"OC\"].copy()\n",
    "df2 = pd.DataFrame(srs)\n",
    "df2[\"dt\"] = df2.index\n",
    "#pd.DataFrame(srs).merge(srs.reset_index().diff()) \n",
    "df2 = df2.diff().shift(-1)\n",
    "df2[\"OC0\"] = srs\n",
    "df2.assign(trap = lambda x: x.dt*(x.OC0+x.OC/2)).sum()"
   ]
  },
  {
   "cell_type": "code",
   "execution_count": 28,
   "metadata": {},
   "outputs": [
    {
     "data": {
      "text/plain": [
       "np.float64(215.34673650000002)"
      ]
     },
     "execution_count": 28,
     "metadata": {},
     "output_type": "execute_result"
    }
   ],
   "source": [
    "sp.integrate.trapezoid(df[\"OC\"], x=df.index)"
   ]
  },
  {
   "cell_type": "code",
   "execution_count": 41,
   "metadata": {},
   "outputs": [
    {
     "data": {
      "text/plain": [
       "np.float64(215.34673649999996)"
      ]
     },
     "execution_count": 41,
     "metadata": {},
     "output_type": "execute_result"
    }
   ],
   "source": [
    "pd.DataFrame({\"dS\":srs, \"dt\": srs.index}).diff().shift(-1).assign(S=srs).assign(trap = lambda x: x.dt*(x.S+x.dS/2)).sum().trap"
   ]
  }
 ],
 "metadata": {
  "kernelspec": {
   "display_name": "lcocd",
   "language": "python",
   "name": "python3"
  },
  "language_info": {
   "codemirror_mode": {
    "name": "ipython",
    "version": 3
   },
   "file_extension": ".py",
   "mimetype": "text/x-python",
   "name": "python",
   "nbconvert_exporter": "python",
   "pygments_lexer": "ipython3",
   "version": "3.12.4"
  }
 },
 "nbformat": 4,
 "nbformat_minor": 2
}
